{
 "cells": [
  {
   "cell_type": "markdown",
   "id": "6d85b377-5303-4635-99e2-21dba9ec8079",
   "metadata": {},
   "source": [
    "# Notebook testing out visualisation of the moon as a 3d sphere\n",
    "\n",
    "Mostly taken from the tutorial here:\n",
    "https://towardsdatascience.com/create-interactive-globe-earthquake-plot-in-python-b0b52b646f27"
   ]
  },
  {
   "cell_type": "code",
   "execution_count": 1,
   "id": "4547bfce-8e23-4fbc-a0de-65a540bc5e80",
   "metadata": {},
   "outputs": [],
   "source": [
    "import plotly"
   ]
  },
  {
   "cell_type": "code",
   "execution_count": 6,
   "id": "61244d9a-596d-4569-91a3-212f3ccac0ed",
   "metadata": {},
   "outputs": [],
   "source": [
    "import xarray as xa\n",
    "import rioxarray as rio"
   ]
  },
  {
   "cell_type": "code",
   "execution_count": 24,
   "id": "b2e9e82f-6c69-42af-bc0a-d469fcd51162",
   "metadata": {},
   "outputs": [
    {
     "data": {
      "text/plain": [
       "4096"
      ]
     },
     "execution_count": 24,
     "metadata": {},
     "output_type": "execute_result"
    }
   ],
   "source": [
    "data.x.size"
   ]
  },
  {
   "cell_type": "code",
   "execution_count": 168,
   "id": "24e143cf-3f9b-4511-a2ee-10d25de34604",
   "metadata": {},
   "outputs": [],
   "source": [
    "def get_data(fname = 'lroc_color_poles_4k.tif',\n",
    "             ds_factor = 2):\n",
    "    \"\"\" \n",
    "    Gets the data from a geotif with filename fname, downscaling int the processs\n",
    "    Inputs:\n",
    "        fname (str) : filename of geotif to load\n",
    "        ds_factor (int) downscale factor\n",
    "    Output:\n",
    "        lon, lat, data ([n_lat x n_lon] np arrays)\n",
    "    \"\"\"\n",
    "    import rioxarray as rio\n",
    "    import xarray as xa\n",
    "    import numpy as np\n",
    "    from rasterio.enums import Resampling\n",
    "    \n",
    "    xds = rio.open_rasterio(fname)\n",
    "    xds.attrs['crs'] = 'EPSG:4326'\n",
    "    downscale_factor = 2\n",
    "    new_width = xds.rio.width // ds_factor\n",
    "    new_height = xds.rio.height // ds_factor\n",
    "    xds.var\n",
    "\n",
    "    xds_resampled = xds.rio.reproject(\n",
    "        xds.rio.crs,\n",
    "        shape=(new_height, new_width),\n",
    "        resampling=Resampling.bilinear,\n",
    "        SRC_METHOD='NO_GEOTRANSFORM'\n",
    "    )\n",
    "    lon = xds_resampled.x.data\n",
    "    lat = xds_resampled.y.data\n",
    "    \n",
    "    lon = (lon - lon.min()) / (lon.max() - lon.min()) * 360 - 180 \n",
    "    lat = (lat - lat.min()) / (lat.max() - lat.min()) * 180 - 90 \n",
    "\n",
    "\n",
    "    \n",
    "    \n",
    "    lon, lat = np.meshgrid(lon, lat)\n",
    "    \n",
    "    return lon, lat, xds_resampled.data[0, ...]"
   ]
  },
  {
   "cell_type": "code",
   "execution_count": 171,
   "id": "79642e30-85ff-4659-8190-b278e5c75c63",
   "metadata": {},
   "outputs": [],
   "source": [
    "import numpy as np\n",
    "def degree2radians(degree):\n",
    "  # convert degrees to radians\n",
    "  return degree*np.pi/180\n",
    "  \n",
    "def mapping_map_to_sphere(lon, lat, radius=1):\n",
    "    # this function maps the points of coords (lon, lat) to points onto the sphere of radius radius\n",
    "    lon=np.array(lon, dtype=np.float64)\n",
    "    lat=np.array(lat, dtype=np.float64)\n",
    "    lon=degree2radians(lon)\n",
    "    lat=degree2radians(lat)\n",
    "    xs=radius*np.cos(lon)*np.cos(lat)\n",
    "    ys=radius*np.sin(lon)*np.cos(lat)\n",
    "    zs=radius*np.sin(lat)\n",
    "    return xs, ys, zs\n"
   ]
  },
  {
   "cell_type": "code",
   "execution_count": 204,
   "id": "61a83825-8195-4adc-b0b1-892033d8ca00",
   "metadata": {},
   "outputs": [],
   "source": [
    "# Get mesh-shape topography data\n",
    "lon, lat, greys = get_data(ds_factor = 5)"
   ]
  },
  {
   "cell_type": "code",
   "execution_count": 205,
   "id": "4d6ce45f-b9a2-44ec-a9a7-40f3b0ff8df1",
   "metadata": {},
   "outputs": [],
   "source": [
    "\n",
    "\n",
    "# Locations on the sphere fro grid cells in x,y,z coords\n",
    "xs, ys, zs = mapping_map_to_sphere(lon, lat)"
   ]
  },
  {
   "cell_type": "code",
   "execution_count": 206,
   "id": "6bc77b52-beb3-4464-a4ae-8c8b0c7bfe56",
   "metadata": {},
   "outputs": [
    {
     "data": {
      "text/plain": [
       "180.0"
      ]
     },
     "execution_count": 206,
     "metadata": {},
     "output_type": "execute_result"
    }
   ],
   "source": [
    "np.max(lon)"
   ]
  },
  {
   "cell_type": "code",
   "execution_count": 222,
   "id": "322f5183-86a9-4adb-987d-ac4029939cda",
   "metadata": {},
   "outputs": [],
   "source": [
    "Ctopo = [[0, 'rgb(0, 0, 0)'],[1.0, 'rgb(255,255,255)']]"
   ]
  },
  {
   "cell_type": "code",
   "execution_count": 227,
   "id": "b2b1abbb-2e06-41b1-a42f-84fe80be4cc0",
   "metadata": {},
   "outputs": [],
   "source": [
    "cmin = 0\n",
    "cmax = 255\n",
    "topo_sphere=dict(type='surface',\n",
    "  x=xs,\n",
    "  y=ys,\n",
    "  z=zs,\n",
    "  colorscale=Ctopo,\n",
    "  surfacecolor=greys,\n",
    "  cmin=cmin,\n",
    "  cmax=cmax)"
   ]
  },
  {
   "cell_type": "code",
   "execution_count": 263,
   "id": "60bf4261-5e7d-404e-9eb5-db493d06bec0",
   "metadata": {},
   "outputs": [],
   "source": [
    "import plotly.graph_objs as go\n",
    "\n",
    "titlecolor = 'white'\n",
    "bgcolor = 'black'\n",
    "\n",
    "\n",
    "\n",
    "\n",
    "noaxis=dict(showbackground=False,\n",
    "  showgrid=False,\n",
    "  showline=False,\n",
    "  showticklabels=False,\n",
    "  ticks='',\n",
    "  title='',\n",
    "  zeroline=False)\n",
    "\n",
    "layout = go.Layout(\n",
    "  autosize=False, width=1200, height=800,\n",
    "  title = '3D Moonquake Map',\n",
    "  titlefont = dict(family='Courier New', color=titlecolor),\n",
    "  showlegend = False,\n",
    "  scene = dict(\n",
    "    xaxis = noaxis,\n",
    "    yaxis = noaxis,\n",
    "    zaxis = noaxis,\n",
    "    aspectmode='manual',\n",
    "    aspectratio=go.layout.scene.Aspectratio(\n",
    "      x=1, y=1, z=1)),\n",
    "  paper_bgcolor = bgcolor,\n",
    "  plot_bgcolor = bgcolor)"
   ]
  },
  {
   "cell_type": "code",
   "execution_count": 264,
   "id": "292f3bd3-a5a5-498d-823f-9281d2b4619e",
   "metadata": {},
   "outputs": [
    {
     "data": {
      "text/plain": [
       "'index.html'"
      ]
     },
     "execution_count": 264,
     "metadata": {},
     "output_type": "execute_result"
    }
   ],
   "source": [
    "from plotly.offline import plot\n",
    "\n",
    "plot_data=[topo_sphere]\n",
    "fig = go.Figure(data=plot_data, layout=layout)\n",
    "plot(fig, validate = False, filename='index.html',\n",
    "   auto_open=True)"
   ]
  },
  {
   "cell_type": "markdown",
   "id": "fb759a49-b724-460c-aacd-255ba9aaa604",
   "metadata": {},
   "source": [
    "# Loading moonquake data"
   ]
  },
  {
   "cell_type": "code",
   "execution_count": 300,
   "id": "78ea2628-d7e2-44f8-906c-d9234ffdb85c",
   "metadata": {},
   "outputs": [
    {
     "name": "stdout",
     "output_type": "stream",
     "text": [
      "/home/leigh/Documents/Projects/moonquake\n"
     ]
    }
   ],
   "source": [
    "!pwd"
   ]
  },
  {
   "cell_type": "code",
   "execution_count": 359,
   "id": "94276df3-73ff-4df6-9904-4db08cb12ee2",
   "metadata": {},
   "outputs": [],
   "source": [
    "import pandas as pd\n",
    "import glob\n",
    "\n",
    "###############----For input----###############\n",
    "file_list = glob.glob(\"cleaned_data.csv\")\n",
    "data = pd.read_csv(file_list[i])\n",
    "\n",
    "# Data selection   \n",
    "\n",
    "# Change format to datetime for event date\n",
    "data['np_DateTime']=pd.to_datetime(data['Date'],format='%Y-%m-%d %H:%M:%S')\n",
    "\n",
    "date = np.array(data['np_DateTime'])\n",
    "evlon = np.array(data['Long'])\n",
    "evlat = np.array(data['Lat'])\n",
    "\n",
    "# create color col\n",
    "moonquake_labels = ['Shallow Moonquake', 'Deep Moonquake']\n",
    "data['type_num'] = pd.Series([int(d in moonquake_labels) for d in data['Type']])\n",
    "# # Calculate time difference\n",
    "# RefTime = np.datetime64(\"2000-01-01T00:00:00.000000000\")\n",
    "# Timefrom_RefTime = (date - RefTime)\n",
    "# # For years\n",
    "# Timefrom_RefYears = Timefrom_RefTime.astype('timedelta64[Y]')\n",
    "# Timefrom_RefYears = Timefrom_RefYears / np.timedelta64(1, 'Y')"
   ]
  },
  {
   "cell_type": "code",
   "execution_count": 360,
   "id": "3c186113-4f59-46bd-8123-c617d57fe67b",
   "metadata": {},
   "outputs": [
    {
     "data": {
      "text/plain": [
       "0      False\n",
       "1      False\n",
       "2      False\n",
       "3      False\n",
       "4      False\n",
       "       ...  \n",
       "253     True\n",
       "254     True\n",
       "255     True\n",
       "256     True\n",
       "257     True\n",
       "Length: 258, dtype: bool"
      ]
     },
     "execution_count": 360,
     "metadata": {},
     "output_type": "execute_result"
    }
   ],
   "source": [
    "pd.Series([('_dm_' in d) for d in data['Source']])"
   ]
  },
  {
   "cell_type": "code",
   "execution_count": 361,
   "id": "aa3cc33c-2519-4659-bada-115f486b6222",
   "metadata": {},
   "outputs": [
    {
     "data": {
      "text/html": [
       "<div>\n",
       "<style scoped>\n",
       "    .dataframe tbody tr th:only-of-type {\n",
       "        vertical-align: middle;\n",
       "    }\n",
       "\n",
       "    .dataframe tbody tr th {\n",
       "        vertical-align: top;\n",
       "    }\n",
       "\n",
       "    .dataframe thead th {\n",
       "        text-align: right;\n",
       "    }\n",
       "</style>\n",
       "<table border=\"1\" class=\"dataframe\">\n",
       "  <thead>\n",
       "    <tr style=\"text-align: right;\">\n",
       "      <th></th>\n",
       "      <th>Unnamed: 0</th>\n",
       "      <th>Lat</th>\n",
       "      <th>Long</th>\n",
       "      <th>Date</th>\n",
       "      <th>RawType</th>\n",
       "      <th>Type</th>\n",
       "      <th>Source</th>\n",
       "      <th>np_DateTime</th>\n",
       "      <th>type_num</th>\n",
       "    </tr>\n",
       "  </thead>\n",
       "  <tbody>\n",
       "    <tr>\n",
       "      <th>0</th>\n",
       "      <td>0</td>\n",
       "      <td>-3.94</td>\n",
       "      <td>-21.20</td>\n",
       "      <td>1969-11-20 22:17:00</td>\n",
       "      <td>12 LM</td>\n",
       "      <td>Artifical Impacts</td>\n",
       "      <td>gagnepian_2006_catalog</td>\n",
       "      <td>1969-11-20 22:17:00</td>\n",
       "      <td>0</td>\n",
       "    </tr>\n",
       "    <tr>\n",
       "      <th>1</th>\n",
       "      <td>1</td>\n",
       "      <td>-2.75</td>\n",
       "      <td>-27.86</td>\n",
       "      <td>1970-04-15 02:09:00</td>\n",
       "      <td>13 S-IVB</td>\n",
       "      <td>Artifical Impacts</td>\n",
       "      <td>gagnepian_2006_catalog</td>\n",
       "      <td>1970-04-15 02:09:00</td>\n",
       "      <td>0</td>\n",
       "    </tr>\n",
       "    <tr>\n",
       "      <th>2</th>\n",
       "      <td>2</td>\n",
       "      <td>-8.09</td>\n",
       "      <td>-26.02</td>\n",
       "      <td>1971-02-04 07:40:00</td>\n",
       "      <td>14 S-IVB</td>\n",
       "      <td>Artifical Impacts</td>\n",
       "      <td>gagnepian_2006_catalog</td>\n",
       "      <td>1971-02-04 07:40:00</td>\n",
       "      <td>0</td>\n",
       "    </tr>\n",
       "    <tr>\n",
       "      <th>3</th>\n",
       "      <td>3</td>\n",
       "      <td>-3.42</td>\n",
       "      <td>-19.67</td>\n",
       "      <td>1971-02-07 00:45:00</td>\n",
       "      <td>14 LM</td>\n",
       "      <td>Artifical Impacts</td>\n",
       "      <td>gagnepian_2006_catalog</td>\n",
       "      <td>1971-02-07 00:45:00</td>\n",
       "      <td>0</td>\n",
       "    </tr>\n",
       "    <tr>\n",
       "      <th>4</th>\n",
       "      <td>4</td>\n",
       "      <td>-1.51</td>\n",
       "      <td>-11.81</td>\n",
       "      <td>1971-07-29 20:58:00</td>\n",
       "      <td>15 S-IVB</td>\n",
       "      <td>Artifical Impacts</td>\n",
       "      <td>gagnepian_2006_catalog</td>\n",
       "      <td>1971-07-29 20:58:00</td>\n",
       "      <td>0</td>\n",
       "    </tr>\n",
       "    <tr>\n",
       "      <th>...</th>\n",
       "      <td>...</td>\n",
       "      <td>...</td>\n",
       "      <td>...</td>\n",
       "      <td>...</td>\n",
       "      <td>...</td>\n",
       "      <td>...</td>\n",
       "      <td>...</td>\n",
       "      <td>...</td>\n",
       "      <td>...</td>\n",
       "    </tr>\n",
       "    <tr>\n",
       "      <th>253</th>\n",
       "      <td>253</td>\n",
       "      <td>7.10</td>\n",
       "      <td>22.50</td>\n",
       "      <td>1977-09-13 03:58:00</td>\n",
       "      <td>dm</td>\n",
       "      <td>Deep Moonquake</td>\n",
       "      <td>nakamura_2005_dm_locations</td>\n",
       "      <td>1977-09-13 03:58:00</td>\n",
       "      <td>1</td>\n",
       "    </tr>\n",
       "    <tr>\n",
       "      <th>254</th>\n",
       "      <td>254</td>\n",
       "      <td>42.90</td>\n",
       "      <td>110.90</td>\n",
       "      <td>1977-09-13 09:55:00</td>\n",
       "      <td>dm</td>\n",
       "      <td>Deep Moonquake</td>\n",
       "      <td>nakamura_2005_dm_locations</td>\n",
       "      <td>1977-09-13 09:55:00</td>\n",
       "      <td>1</td>\n",
       "    </tr>\n",
       "    <tr>\n",
       "      <th>255</th>\n",
       "      <td>255</td>\n",
       "      <td>54.20</td>\n",
       "      <td>56.50</td>\n",
       "      <td>1977-05-12 09:44:00</td>\n",
       "      <td>dm</td>\n",
       "      <td>Deep Moonquake</td>\n",
       "      <td>nakamura_2005_dm_locations</td>\n",
       "      <td>1977-05-12 09:44:00</td>\n",
       "      <td>1</td>\n",
       "    </tr>\n",
       "    <tr>\n",
       "      <th>256</th>\n",
       "      <td>256</td>\n",
       "      <td>24.80</td>\n",
       "      <td>35.70</td>\n",
       "      <td>1977-02-12 21:38:00</td>\n",
       "      <td>dm</td>\n",
       "      <td>Deep Moonquake</td>\n",
       "      <td>nakamura_2005_dm_locations</td>\n",
       "      <td>1977-02-12 21:38:00</td>\n",
       "      <td>1</td>\n",
       "    </tr>\n",
       "    <tr>\n",
       "      <th>257</th>\n",
       "      <td>257</td>\n",
       "      <td>10.60</td>\n",
       "      <td>6.40</td>\n",
       "      <td>1972-07-06 21:03:00</td>\n",
       "      <td>dm</td>\n",
       "      <td>Deep Moonquake</td>\n",
       "      <td>nakamura_2005_dm_locations</td>\n",
       "      <td>1972-07-06 21:03:00</td>\n",
       "      <td>1</td>\n",
       "    </tr>\n",
       "  </tbody>\n",
       "</table>\n",
       "<p>258 rows × 9 columns</p>\n",
       "</div>"
      ],
      "text/plain": [
       "     Unnamed: 0    Lat    Long                 Date   RawType  \\\n",
       "0             0  -3.94  -21.20  1969-11-20 22:17:00     12 LM   \n",
       "1             1  -2.75  -27.86  1970-04-15 02:09:00  13 S-IVB   \n",
       "2             2  -8.09  -26.02  1971-02-04 07:40:00  14 S-IVB   \n",
       "3             3  -3.42  -19.67  1971-02-07 00:45:00     14 LM   \n",
       "4             4  -1.51  -11.81  1971-07-29 20:58:00  15 S-IVB   \n",
       "..          ...    ...     ...                  ...       ...   \n",
       "253         253   7.10   22.50  1977-09-13 03:58:00        dm   \n",
       "254         254  42.90  110.90  1977-09-13 09:55:00        dm   \n",
       "255         255  54.20   56.50  1977-05-12 09:44:00        dm   \n",
       "256         256  24.80   35.70  1977-02-12 21:38:00        dm   \n",
       "257         257  10.60    6.40  1972-07-06 21:03:00        dm   \n",
       "\n",
       "                  Type                      Source         np_DateTime  \\\n",
       "0    Artifical Impacts      gagnepian_2006_catalog 1969-11-20 22:17:00   \n",
       "1    Artifical Impacts      gagnepian_2006_catalog 1970-04-15 02:09:00   \n",
       "2    Artifical Impacts      gagnepian_2006_catalog 1971-02-04 07:40:00   \n",
       "3    Artifical Impacts      gagnepian_2006_catalog 1971-02-07 00:45:00   \n",
       "4    Artifical Impacts      gagnepian_2006_catalog 1971-07-29 20:58:00   \n",
       "..                 ...                         ...                 ...   \n",
       "253     Deep Moonquake  nakamura_2005_dm_locations 1977-09-13 03:58:00   \n",
       "254     Deep Moonquake  nakamura_2005_dm_locations 1977-09-13 09:55:00   \n",
       "255     Deep Moonquake  nakamura_2005_dm_locations 1977-05-12 09:44:00   \n",
       "256     Deep Moonquake  nakamura_2005_dm_locations 1977-02-12 21:38:00   \n",
       "257     Deep Moonquake  nakamura_2005_dm_locations 1972-07-06 21:03:00   \n",
       "\n",
       "     type_num  \n",
       "0           0  \n",
       "1           0  \n",
       "2           0  \n",
       "3           0  \n",
       "4           0  \n",
       "..        ...  \n",
       "253         1  \n",
       "254         1  \n",
       "255         1  \n",
       "256         1  \n",
       "257         1  \n",
       "\n",
       "[258 rows x 9 columns]"
      ]
     },
     "execution_count": 361,
     "metadata": {},
     "output_type": "execute_result"
    }
   ],
   "source": [
    "data"
   ]
  },
  {
   "cell_type": "code",
   "execution_count": 362,
   "id": "b5802ea1-e39a-4d24-a775-664e1c33b398",
   "metadata": {},
   "outputs": [],
   "source": [
    "xs_ev_org, ys_ev_org, zs_ev_org = mapping_map_to_sphere(evlon, evlat)\n",
    "\n",
    "#Create color bar in Matplotlib\n",
    "import matplotlib\n",
    "from matplotlib import cm\n",
    "\n",
    "def matplotlib_to_plotly(cmap, pl_entries):\n",
    "    h = 1.0/(pl_entries-1)\n",
    "    pl_colorscale = []\n",
    "    \n",
    "    for k in range(pl_entries):\n",
    "        C = list(map(np.uint8, np.array(cmap(k*h)[:3])*255))\n",
    "        pl_colorscale.append([k*h, 'rgb'+str((C[0], C[1], C[2]))])\n",
    "        \n",
    "    return pl_colorscale\n",
    "\n",
    "def MlibCscale_to_Plotly(cbar):\n",
    "    cmap = matplotlib.cm.get_cmap(cbar)\n",
    "    rgb = []\n",
    "    norm = matplotlib.colors.Normalize(vmin=0, vmax=255)\n",
    "\n",
    "    for i in range(0, 255):\n",
    "        k = matplotlib.colors.colorConverter.to_rgb(cmap(norm(i)))\n",
    "        rgb.append(k)\n",
    "\n",
    "    Cscale = matplotlib_to_plotly(cmap, 255)\n",
    "    \n",
    "    return Cscale\n",
    "\n",
    "cbar = 'jet_r'\n",
    "Cscale_EQ = MlibCscale_to_Plotly(cbar)\n",
    "\n",
    "colours = data['type_num'].to_numpy()"
   ]
  },
  {
   "cell_type": "code",
   "execution_count": 363,
   "id": "079a0799-704b-4fab-8693-0c3ff0c65201",
   "metadata": {},
   "outputs": [],
   "source": [
    "ratio = 1. \n",
    "xs_ev = xs_ev_org*ratio\n",
    "ys_ev = ys_ev_org*ratio\n",
    "zs_ev = zs_ev_org*ratio\n",
    "\n",
    "ratio = 1.01\n",
    "xs_ev_up = xs_ev_org*ratio\n",
    "ys_ev_up = ys_ev_org*ratio\n",
    "zs_ev_up = zs_ev_org*ratio"
   ]
  },
  {
   "cell_type": "code",
   "execution_count": 364,
   "id": "baf5449f-5153-4ab2-a941-1b861293da59",
   "metadata": {},
   "outputs": [],
   "source": [
    "depmax = 1.\n",
    "depmin = 0.\n",
    "depbin = 1.\n",
    "\n",
    "cmin = depmin\n",
    "cmax = depmax\n",
    "cbin = depbin\n",
    "\n",
    "seis_3D_depth_up = go.Scatter3d(x = xs_ev_up,\n",
    "                      y = ys_ev_up,\n",
    "                      z = zs_ev_up,\n",
    "                      mode='markers',\n",
    "                      name='measured',\n",
    "                      marker = dict(\n",
    "                          size = 3.,\n",
    "                          cmax = cmax,\n",
    "                          cmin = cmin,\n",
    "                          colorbar = dict(\n",
    "                              title = 'Source Depth',\n",
    "                              titleside = 'right',\n",
    "                              titlefont = dict(size = 16, \n",
    "                                               color = titlecolor, \n",
    "                                               family='Courier New'),\n",
    "                              tickmode = 'array',\n",
    "                              ticks = 'outside',\n",
    "                              ticktext = list(np.arange(cmin,cmax+cbin,cbin)),\n",
    "                              tickvals = list(np.arange(cmin,cmax+cbin,cbin)),\n",
    "                              tickcolor = titlecolor,\n",
    "                              tickfont = dict(size=14, color = titlecolor,\n",
    "                                             family='Courier New')\n",
    "                          ),\n",
    "                          ### choose color option\n",
    "                          color = colours,\n",
    "                          ### choose color option\n",
    "                          colorscale = Cscale_EQ,\n",
    "                          showscale = True,\n",
    "                          opacity=1.),\n",
    "                      hoverinfo='skip'\n",
    "                      )"
   ]
  },
  {
   "cell_type": "code",
   "execution_count": 365,
   "id": "a6e2cd5c-3a15-47ce-94d8-7ef4cacf1039",
   "metadata": {},
   "outputs": [
    {
     "data": {
      "text/plain": [
       "'index2.html'"
      ]
     },
     "execution_count": 365,
     "metadata": {},
     "output_type": "execute_result"
    }
   ],
   "source": [
    "from plotly.offline import plot\n",
    "\n",
    "plot_data=[topo_sphere, seis_3D_depth_up]\n",
    "fig = go.Figure(data=plot_data, layout=layout)\n",
    "plot(fig, validate = False, filename='index2.html',\n",
    "   auto_open=True)"
   ]
  },
  {
   "cell_type": "code",
   "execution_count": null,
   "id": "62e3bd18-b874-4bc9-8234-64383f9f32d8",
   "metadata": {},
   "outputs": [],
   "source": []
  },
  {
   "cell_type": "code",
   "execution_count": null,
   "id": "c0ca10a7-71fd-457f-9c5b-e9d422260a4e",
   "metadata": {},
   "outputs": [],
   "source": []
  }
 ],
 "metadata": {
  "kernelspec": {
   "display_name": "Python 3 (ipykernel)",
   "language": "python",
   "name": "python3"
  },
  "language_info": {
   "codemirror_mode": {
    "name": "ipython",
    "version": 3
   },
   "file_extension": ".py",
   "mimetype": "text/x-python",
   "name": "python",
   "nbconvert_exporter": "python",
   "pygments_lexer": "ipython3",
   "version": "3.7.12"
  }
 },
 "nbformat": 4,
 "nbformat_minor": 5
}
